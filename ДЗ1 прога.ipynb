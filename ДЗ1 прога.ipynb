{
 "cells": [
  {
   "cell_type": "markdown",
   "metadata": {},
   "source": [
    "# Домашнее задание 1"
   ]
  },
  {
   "cell_type": "markdown",
   "metadata": {},
   "source": [
    "Обрабатываем json"
   ]
  },
  {
   "cell_type": "code",
   "execution_count": 2,
   "metadata": {
    "collapsed": true
   },
   "outputs": [],
   "source": [
    "import json\n",
    "import collections\n",
    "import re\n",
    "\n",
    "from string import punctuation\n",
    "from collections import Counter"
   ]
  },
  {
   "cell_type": "code",
   "execution_count": 4,
   "metadata": {
    "collapsed": false
   },
   "outputs": [],
   "source": [
    "twitter = []\n",
    "for line in open('hw_3_twitter.json'):\n",
    "    twitter.append(json.loads(line))"
   ]
  },
  {
   "cell_type": "markdown",
   "metadata": {},
   "source": [
    "# Задание 1"
   ]
  },
  {
   "cell_type": "code",
   "execution_count": 5,
   "metadata": {
    "collapsed": false,
    "scrolled": false
   },
   "outputs": [
    {
     "data": {
      "text/plain": [
       "2556"
      ]
     },
     "execution_count": 5,
     "metadata": {},
     "output_type": "execute_result"
    }
   ],
   "source": [
    "len(twitter)"
   ]
  },
  {
   "cell_type": "markdown",
   "metadata": {},
   "source": [
    "# Задание 2"
   ]
  },
  {
   "cell_type": "markdown",
   "metadata": {},
   "source": [
    "Считаем количество строк с удалёнными твитами (=> удалённые твиты), делим на общее количество и умножаем на 100"
   ]
  },
  {
   "cell_type": "code",
   "execution_count": 6,
   "metadata": {
    "collapsed": false,
    "scrolled": true
   },
   "outputs": [
    {
     "data": {
      "text/plain": [
       "14.162754303599373"
      ]
     },
     "execution_count": 6,
     "metadata": {},
     "output_type": "execute_result"
    }
   ],
   "source": [
    "udal = 0\n",
    "for line in twitter:\n",
    "    if 'delete' in list(line.keys()):\n",
    "        udal +=1\n",
    "a = udal/len(twitter)*100\n",
    "a"
   ]
  },
  {
   "cell_type": "markdown",
   "metadata": {},
   "source": [
    "# Задание 3"
   ]
  },
  {
   "cell_type": "markdown",
   "metadata": {},
   "source": [
    "Делаем список с языками твитов. Считаем количество твитов на каждом языке. Выводим самые частые (10)"
   ]
  },
  {
   "cell_type": "code",
   "execution_count": 8,
   "metadata": {
    "collapsed": false
   },
   "outputs": [
    {
     "data": {
      "text/plain": [
       "[('en', 719),\n",
       " ('ja', 438),\n",
       " ('es', 173),\n",
       " ('ko', 149),\n",
       " ('th', 123),\n",
       " ('ar', 119),\n",
       " ('und', 117),\n",
       " ('in', 71),\n",
       " ('pt', 69),\n",
       " ('fr', 35)]"
      ]
     },
     "execution_count": 8,
     "metadata": {},
     "output_type": "execute_result"
    }
   ],
   "source": [
    "strings = []\n",
    "for line in twitter:\n",
    "    if 'lang' in list(line.keys()):\n",
    "        strings.append(line['lang'])\n",
    "c = Counter(strings)\n",
    "langs = []\n",
    "for pair in c.most_common(10):\n",
    "    langs.append(pair)\n",
    "langs"
   ]
  },
  {
   "cell_type": "markdown",
   "metadata": {},
   "source": [
    "# Задание 4\n"
   ]
  },
  {
   "cell_type": "markdown",
   "metadata": {},
   "source": [
    "Для каждого твита добавляем в список его автора. Считаем, сколько раз встречается каждый автор. Если кто-то встречается 2 и больше раз, добавляем его в список пользователей с несколькими твитами. Выводим число таких авторов."
   ]
  },
  {
   "cell_type": "code",
   "execution_count": 6,
   "metadata": {
    "collapsed": false
   },
   "outputs": [
    {
     "name": "stdout",
     "output_type": "stream",
     "text": [
      "Да, 25\n"
     ]
    }
   ],
   "source": [
    "polzs = []\n",
    "for line in twitter:\n",
    "    if 'user' in list(line.keys()):\n",
    "        polzs.append(line['user']['screen_name'])\n",
    "e = collections.Counter(polzs)\n",
    "top_user = []\n",
    "for key, value in e.items():\n",
    "    if value >= 2:\n",
    "        top_user.append(key)\n",
    "if len(top_user) > 0:\n",
    "    print('Да,', len(top_user))\n",
    "else:\n",
    "    print('Нет')"
   ]
  },
  {
   "cell_type": "markdown",
   "metadata": {},
   "source": [
    "# Задание 5"
   ]
  },
  {
   "cell_type": "markdown",
   "metadata": {},
   "source": [
    "Добавляем хэштег из каждого твита в список. Считаем, сколько раз какой хэштег встречается. Выводим 20 самых частых. "
   ]
  },
  {
   "cell_type": "code",
   "execution_count": 9,
   "metadata": {
    "collapsed": false
   },
   "outputs": [
    {
     "data": {
      "text/plain": [
       "[('BTS', 17),\n",
       " ('방탄소년단', 13),\n",
       " ('AMAs', 11),\n",
       " ('人気投票ガチャ', 8),\n",
       " ('태형', 7),\n",
       " ('뷔', 6),\n",
       " ('MPN', 5),\n",
       " ('PledgeForSwachhBharat', 5),\n",
       " ('오늘의방탄', 5),\n",
       " ('BTSLoveYourselfTour', 5),\n",
       " ('BTSinChicago', 5),\n",
       " ('시카고1회차공연', 4),\n",
       " ('JIMIN', 4),\n",
       " ('V', 4),\n",
       " ('เป๊กผลิตโชค', 4),\n",
       " ('PCAs', 4),\n",
       " ('NCT127', 3),\n",
       " ('NCT', 3),\n",
       " ('BTSARMY', 3),\n",
       " ('WajahmuPlastik', 3)]"
      ]
     },
     "execution_count": 9,
     "metadata": {},
     "output_type": "execute_result"
    }
   ],
   "source": [
    "hashs = []\n",
    "for line in twitter:\n",
    "    if 'entities' in line:\n",
    "        hashs += line[\"entities\"]['hashtags']\n",
    "texts = []\n",
    "for r in hashs:\n",
    "    if 'text' in r:\n",
    "        texts.append(r['text'])\n",
    "texts\n",
    "l = Counter(texts)\n",
    "hd = []\n",
    "for pair in l.most_common(20):\n",
    "    hd.append(pair)\n",
    "hd"
   ]
  },
  {
   "cell_type": "markdown",
   "metadata": {},
   "source": [
    "# Задание 6\n"
   ]
  },
  {
   "cell_type": "markdown",
   "metadata": {},
   "source": [
    "Для каждого твита проверяем, чтобы он не был ретвитом и удалённым. Смотрим, чтобы язык был английским. Добавляем текст твита в строку. Убираем пунктуацию с помощью регулярок, приводим к нижнему регистру. Считаем количество вхождений каждого слова. Выводим 50 самых частотных."
   ]
  },
  {
   "cell_type": "code",
   "execution_count": 8,
   "metadata": {
    "collapsed": false
   },
   "outputs": [
    {
     "name": "stdout",
     "output_type": "stream",
     "text": [
      "the 125\n",
      "to 86\n",
      "a 75\n",
      "i 73\n",
      "and 64\n",
      "is 50\n",
      "you 48\n",
      "of 45\n",
      "for 41\n",
      "it 41\n",
      "in 37\n",
      "that 33\n",
      "this 31\n",
      "my 30\n",
      "me 27\n",
      "be 26\n",
      "on 26\n",
      "are 21\n",
      "so 21\n",
      "with 20\n",
      "what 20\n",
      "have 19\n",
      "but 17\n",
      "more 17\n",
      "not 17\n",
      "at 17\n",
      "your 16\n",
      "get 16\n",
      "its 15\n",
      "just 14\n",
      "about 14\n",
      "like 14\n",
      "im 13\n",
      "now 12\n",
      "we 12\n",
      "all 12\n",
      "if 11\n",
      "one 11\n",
      "only 11\n",
      "was 11\n",
      "he 11\n",
      "up 11\n",
      "they 11\n",
      "hit 10\n",
      "or 9\n",
      "today 9\n",
      "time 9\n",
      "i’m 9\n",
      "out 9\n",
      "as 9\n"
     ]
    }
   ],
   "source": [
    "bigstr = \"\"\n",
    "for line in twitter:\n",
    "    if \"created_at\" in list(line.keys()):\n",
    "        if 'retweeted_status' not in list(line.keys()):\n",
    "            if line['lang'] == \"en\":\n",
    "                bigstr += \" \" + re.sub(r'['+punctuation+']', '', line[\"text\"].lower()) + \" \"\n",
    "wordlist = re.sub(r\"[\\n ]+\", \" \", bigstr).strip().split(\" \")\n",
    "counter = Counter(wordlist)\n",
    "for word, count in counter.most_common(50):\n",
    "    print(word, count)"
   ]
  },
  {
   "cell_type": "markdown",
   "metadata": {},
   "source": [
    "# Задание 7"
   ]
  },
  {
   "cell_type": "markdown",
   "metadata": {},
   "source": [
    "Делаем словарь из двух списков: пользователей и количества их подписчиков (для каждого твита добавляем нужное значение в список). Сортируем по значениям (количеству фолловеров) и выводим 10 с конца (т.е. с самым большим количеством)."
   ]
  },
  {
   "cell_type": "code",
   "execution_count": 9,
   "metadata": {
    "collapsed": false
   },
   "outputs": [
    {
     "name": "stdout",
     "output_type": "stream",
     "text": [
      "FIL0S0FIA 2521403\n",
      "FitnessMagazine 1491309\n",
      "malaysiakini 1206759\n",
      "NYTScience 1137374\n",
      "GramaticaReal 625463\n",
      "tgrthabertv 392472\n",
      "TheSunFootball 383698\n",
      "Melbourne 374222\n",
      "Roznama_Express 318189\n",
      "burger_boogie 311319\n"
     ]
    }
   ],
   "source": [
    "us_fol = {}\n",
    "followrs = []\n",
    "usrs = []\n",
    "for line in twitter:\n",
    "    if 'user' in list(line.keys()):\n",
    "        followrs.append(line['user']['followers_count'])\n",
    "        usrs.append(line['user']['screen_name'])\n",
    "us_fol = dict(zip(usrs, followrs))\n",
    "for key in sorted(us_fol, key=us_fol.get)[:-11:-1]:\n",
    "    print(key, us_fol[key])   "
   ]
  },
  {
   "cell_type": "markdown",
   "metadata": {},
   "source": [
    "# Задание 8"
   ]
  },
  {
   "cell_type": "markdown",
   "metadata": {},
   "source": [
    "Создаём список с источниками твитов. Ищем топ-10 источников. С помощью регулярок находим приложения."
   ]
  },
  {
   "cell_type": "code",
   "execution_count": 10,
   "metadata": {
    "collapsed": false
   },
   "outputs": [
    {
     "name": "stdout",
     "output_type": "stream",
     "text": [
      "Twitter for iPhone\n",
      "Twitter for Android\n",
      "Twitter Web Client\n",
      "twittbot.net\n",
      "Twitter Lite\n",
      "Twitter for iPad\n",
      "TweetDeck\n",
      "Facebook\n",
      "IFTTT\n",
      "تطبيق قرآني\n"
     ]
    }
   ],
   "source": [
    "sources = []\n",
    "for line in twitter:\n",
    "    if 'source' in line:\n",
    "        sources.append(line['source'])\n",
    "top10 = []\n",
    "for kill in Counter(sources).most_common(10):\n",
    "    top10.append(list(kill))\n",
    "for i in range(len(top10)):\n",
    "    top10[i] = re.search(r'\">(.*?)</a', top10[i]).group(1)\n",
    "print(\"\\n\".join(top10))"
   ]
  }
 ],
 "metadata": {
  "kernelspec": {
   "display_name": "Python 3",
   "language": "python",
   "name": "python3"
  },
  "language_info": {
   "codemirror_mode": {
    "name": "ipython",
    "version": 3
   },
   "file_extension": ".py",
   "mimetype": "text/x-python",
   "name": "python",
   "nbconvert_exporter": "python",
   "pygments_lexer": "ipython3",
   "version": "3.5.1"
  }
 },
 "nbformat": 4,
 "nbformat_minor": 0
}
